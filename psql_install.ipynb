{
 "cells": [
  {
   "cell_type": "markdown",
   "metadata": {},
   "source": [
    "# Installation PostgreSQL \n",
    "\n",
    "## Windows \n",
    "\n",
    "Die Binaries gibt es hier: https://www.postgresql.org/download/windows/\n"
   ]
  },
  {
   "cell_type": "markdown",
   "metadata": {},
   "source": [
    "### Import eines SQL-Dumps\n",
    "\n",
    "<kbd>PS C:\\Users\\Thanos\\OneDive - Foo\\$DeinOrdner</kbd> steht für das Verzeichnis in welchem sich Dein SQL-Dump (z.B: <code>Chinook.sql</code> - <i>bitte durch den korrekten Dateinamen ersetzen</i>) befindet\n",
    "\n",
    "\n",
    "<pre>\n",
    "<kbd>cd PS C:\\Users\\Thanos\\OneDive - Foo\\$DeinOrdner</kbd>\n",
    "<code>PS C:\\Users\\Thanos\\OneDive - Foo\\$DeinOrdner</code> <kbd>psql --username=postgres  Chinook -f Chinook.sql</kbd>\n",
    "</pre>\n",
    "Danach kommt die Aufforderung, dass Kennwort einzugeben.\n",
    "\n"
   ]
  }
 ],
 "metadata": {
  "language_info": {
   "name": "python"
  }
 },
 "nbformat": 4,
 "nbformat_minor": 2
}
